{
  "nbformat": 4,
  "nbformat_minor": 0,
  "metadata": {
    "colab": {
      "provenance": [],
      "collapsed_sections": []
    },
    "kernelspec": {
      "name": "python3",
      "display_name": "Python 3"
    },
    "language_info": {
      "name": "python"
    }
  },
  "cells": [
    {
      "cell_type": "markdown",
      "source": [
        "**Import library**"
      ],
      "metadata": {
        "id": "H-QVvTPqhDvg"
      }
    },
    {
      "cell_type": "code",
      "execution_count": 1,
      "metadata": {
        "id": "WsBu88OXCdrm"
      },
      "outputs": [],
      "source": [
        "import pandas as pd"
      ]
    },
    {
      "cell_type": "markdown",
      "source": [
        "**Membaca dataset**"
      ],
      "metadata": {
        "id": "XOOhJOGXhHLn"
      }
    },
    {
      "cell_type": "code",
      "source": [
        "df = pd.read_csv('https://raw.githubusercontent.com/pijarpahlawan/seleksi-ise-dsa/master/Global%20Internet%20Usage%20Dataset.csv')"
      ],
      "metadata": {
        "id": "s7hoBf-pQjkD"
      },
      "execution_count": 2,
      "outputs": []
    },
    {
      "cell_type": "markdown",
      "source": [
        "**Membuat objek variabel**"
      ],
      "metadata": {
        "id": "IxIuUMy2hLvR"
      }
    },
    {
      "cell_type": "code",
      "source": [
        "incomeperperson = df['incomeperperson']\n",
        "internetuserate = df['internetuserate']\n",
        "urbanrate = df['urbanrate']"
      ],
      "metadata": {
        "id": "Gghv5LvTU1Za"
      },
      "execution_count": 3,
      "outputs": []
    },
    {
      "cell_type": "markdown",
      "source": [
        "**Temukan nilai maksimum dan minimum untuk setiap variabel yang ada pada dataset\n",
        "yang diberikan!**"
      ],
      "metadata": {
        "id": "M6fQ3lX7XKQV"
      }
    },
    {
      "cell_type": "code",
      "source": [
        "print('NILAI MAKSIMUM')\n",
        "#mencari nilai maksimum masing-masing variabel\n",
        "incomeperperson_max = incomeperperson.max()\n",
        "internetuserate_max = internetuserate.max()\n",
        "urbanrate_max = urbanrate.max()\n",
        "\n",
        "#print nilai maksimum masing-masing variabel\n",
        "print('Nilai maksimum variabel incomeperperson:',incomeperperson_max) \n",
        "print('Nilai maksimum variabel internetuserate:',internetuserate_max) \n",
        "print('Nilai maksimum variable urbanrate:',urbanrate_max) \n",
        "\n",
        "print('\\nNILAI MINIMUM')\n",
        "# nilai minimum masing-masing variabel\n",
        "incomeperperson_min = incomeperperson.min()\n",
        "internetuserate_min = internetuserate.min()\n",
        "urbanrate_min = urbanrate.min()\n",
        "\n",
        "#print nilai minimum masing-masing variabel\n",
        "print('Nilai minimum variabel incomeperperson:',incomeperperson_min) \n",
        "print('Nilai minimum variabel internetuserate:',internetuserate_min) \n",
        "print('Nilai minimum variable urbanrate:',urbanrate_min) "
      ],
      "metadata": {
        "colab": {
          "base_uri": "https://localhost:8080/"
        },
        "id": "v0LhhzfhWGlq",
        "outputId": "344d1ccf-4282-4a9e-ddd7-e712838a1766"
      },
      "execution_count": 4,
      "outputs": [
        {
          "output_type": "stream",
          "name": "stdout",
          "text": [
            "NILAI MAKSIMUM\n",
            "Nilai maksimum variabel incomeperperson: 9528272608\n",
            "Nilai maksimum variabel internetuserate: 9999953883\n",
            "Nilai maksimum variable urbanrate: 9836\n",
            "\n",
            "NILAI MINIMUM\n",
            "Nilai minimum variabel incomeperperson: 1709246\n",
            "Nilai minimum variabel internetuserate: 25\n",
            "Nilai minimum variable urbanrate: 17\n"
          ]
        }
      ]
    },
    {
      "cell_type": "markdown",
      "source": [
        "**Temukan nilai sum untuk setiap variabel yang ada pada dataset yang diberikan!**"
      ],
      "metadata": {
        "id": "3eVsE-sOYp2a"
      }
    },
    {
      "cell_type": "code",
      "source": [
        "#mencari nilai sum masing-masing variabel\n",
        "incomeperperson_sum = incomeperperson.sum()\n",
        "internetuserate_sum = internetuserate.sum()\n",
        "urbanrate_sum = urbanrate.sum()\n",
        "\n",
        "#print nilai sum masing-masing variabel\n",
        "print('Nilai sum variabel incomeperperson:',incomeperperson_sum) \n",
        "print('Nilai sum variabel internetuserate:',internetuserate_sum) \n",
        "print('Nilai sum variable urbanrate:',urbanrate_sum)"
      ],
      "metadata": {
        "colab": {
          "base_uri": "https://localhost:8080/"
        },
        "id": "BGc1SPPXYTn4",
        "outputId": "5a9a17a9-1e65-4b74-f44c-d63bb2e82e11"
      },
      "execution_count": 5,
      "outputs": [
        {
          "output_type": "stream",
          "name": "stdout",
          "text": [
            "Nilai sum variabel incomeperperson: 693171591090\n",
            "Nilai sum variabel internetuserate: 846715529379\n",
            "Nilai sum variable urbanrate: 938466\n"
          ]
        }
      ]
    },
    {
      "cell_type": "markdown",
      "source": [
        "**Temukan nilai mean, median, dan modus dari internet user rate seluruh negara\n",
        "berdasarkan dataset yang diberikan!**"
      ],
      "metadata": {
        "id": "qamm0bqMdZxm"
      }
    },
    {
      "cell_type": "code",
      "source": [
        "#mencari mean, median, mode dari variabel internetuserate\n",
        "internetuserate_mean = internetuserate.mean()\n",
        "internetuserate_median = internetuserate.median()\n",
        "internetuserate_mode = internetuserate.mode()\n",
        "\n",
        "#print mean, median, mode dari variabel internetuserate\n",
        "print('Nilai mean variabel internetuserate:',internetuserate_mean) \n",
        "print('Nilai median variabel internetuserate:',internetuserate_median) \n",
        "print('Nilai modus variabel internetuserate:\\n' + internetuserate_mode.to_string(index=False)) "
      ],
      "metadata": {
        "colab": {
          "base_uri": "https://localhost:8080/"
        },
        "id": "M7Fw8DN6Yro0",
        "outputId": "0fd666c2-a8e0-43d6-fc73-11d5505edec0"
      },
      "execution_count": 6,
      "outputs": [
        {
          "output_type": "stream",
          "name": "stdout",
          "text": [
            "Nilai mean variabel internetuserate: 3975190278.7746477\n",
            "Nilai median variabel internetuserate: 3654121623.0\n",
            "Nilai modus variabel internetuserate:\n",
            "1200669231\n",
            "1599964999\n",
            "2001153153\n",
            "2828970095\n",
            "2999803179\n",
            "5191418432\n",
            "5195803797\n",
            "7988977734\n",
            "8300258425\n"
          ]
        }
      ]
    },
    {
      "cell_type": "markdown",
      "source": [
        "**Temukan nilai variance dan standard deviation dari internet user rate seluruh negara\n",
        "berdasarkan dataset yang diberikan!**"
      ],
      "metadata": {
        "id": "-VeaoODGj_D7"
      }
    },
    {
      "cell_type": "code",
      "source": [
        "#mencari varian\n",
        "difference = internetuserate - internetuserate_mean\n",
        "squared_difference = difference ** 2\n",
        "variance = squared_difference.mean()\n",
        "#print variance\n",
        "print('Variasi:',variance)\n",
        "\n",
        "#mencari standar deviasi\n",
        "standard_deviation = variance ** (1/2)\n",
        "#print stancar deviasi\n",
        "print('Standar deviasi:',standard_deviation)"
      ],
      "metadata": {
        "colab": {
          "base_uri": "https://localhost:8080/"
        },
        "id": "lyXOnE9dkMQA",
        "outputId": "af15b237-982e-4053-b9ec-d0c330b2f4ab"
      },
      "execution_count": 7,
      "outputs": [
        {
          "output_type": "stream",
          "name": "stdout",
          "text": [
            "Variasi: 7.861090721274477e+18\n",
            "Standar deviasi: 2803763670.7244916\n"
          ]
        }
      ]
    },
    {
      "cell_type": "markdown",
      "source": [
        "**Temukan nilai-nilai outliers yang ada berdasarkan dataset!**"
      ],
      "metadata": {
        "id": "9unQ_VRQq8jK"
      }
    },
    {
      "cell_type": "markdown",
      "source": [
        "*Untuk mendapatkan nilai outliers, kami menggunakan metode jangkauan interkuartil. Titik data outlier berada di bawah Q1–1.5 IQR atau di atas Q3 + 1.5 IQR. Q1 adalah persentil ke-25 dan Q3 adalah persentil ke-75 dari kumpulan data, dan IQR mewakili rentang interkuartil yang dihitung dengan Q3 dikurangi Q1 (Q3–Q1)*"
      ],
      "metadata": {
        "id": "g7ptrTLcKj3w"
      }
    },
    {
      "cell_type": "code",
      "source": [
        "#mencari nilai outliers\n",
        "def findOutliersIQR(df):\n",
        "  Q1 = df.quantile(0.25)\n",
        "  Q3 = df.quantile(0.75)\n",
        "  IQR = Q3-Q1\n",
        "  outliers = df[((df<(Q1-1.5*IQR))|(df>(Q3+1.5*IQR)))]\n",
        "  return outliers\n",
        "\n",
        "#print nilai outliers tiap variabel\n",
        "print(findOutliersIQR(incomeperperson))\n",
        "print(findOutliersIQR(internetuserate))\n",
        "print(findOutliersIQR(urbanrate))"
      ],
      "metadata": {
        "colab": {
          "base_uri": "https://localhost:8080/"
        },
        "id": "TVSc6lAvDwsn",
        "outputId": "a542810f-f74d-4c91-dad1-c16d971544c9"
      },
      "execution_count": 8,
      "outputs": [
        {
          "output_type": "stream",
          "name": "stdout",
          "text": [
            "Series([], Name: incomeperperson, dtype: int64)\n",
            "Series([], Name: internetuserate, dtype: int64)\n",
            "Series([], Name: urbanrate, dtype: int64)\n"
          ]
        }
      ]
    },
    {
      "cell_type": "markdown",
      "source": [
        "\n",
        "*Hasilnya: tidak ada data outliers*"
      ],
      "metadata": {
        "id": "9JOwjKwAJT6_"
      }
    }
  ]
}